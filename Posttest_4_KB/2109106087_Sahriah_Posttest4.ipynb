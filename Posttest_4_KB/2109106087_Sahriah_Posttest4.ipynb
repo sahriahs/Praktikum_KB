{
 "cells": [
  {
   "cell_type": "markdown",
   "metadata": {},
   "source": [
    "#Posttest 4\n",
    "##Nama  : Sahriah\n",
    "##NIM   : 2109106087\n",
    "##Kelas : C1'22"
   ]
  },
  {
   "cell_type": "code",
   "execution_count": null,
   "metadata": {
    "vscode": {
     "languageId": "plaintext"
    }
   },
   "outputs": [],
   "source": [
    "import pandas as pd\n",
    "import matplotlib.pyplot as plt\n",
    "import seaborn as sns\n",
    "from sklearn.model_selection import train_test_split\n",
    "\n",
    "heart = pd.read_csv('https://raw.githubusercontent.com/sahriahs/Praktikum_KB/refs/heads/master/Posttest_3_KB/heart_posttest3.csv')"
   ]
  },
  {
   "cell_type": "code",
   "execution_count": null,
   "metadata": {
    "vscode": {
     "languageId": "plaintext"
    }
   },
   "outputs": [],
   "source": []
  }
 ],
 "metadata": {
  "language_info": {
   "name": "python"
  }
 },
 "nbformat": 4,
 "nbformat_minor": 2
}
