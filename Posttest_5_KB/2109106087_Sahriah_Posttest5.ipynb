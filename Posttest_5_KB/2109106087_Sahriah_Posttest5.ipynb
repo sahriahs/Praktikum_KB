{
  "nbformat": 4,
  "nbformat_minor": 0,
  "metadata": {
    "colab": {
      "provenance": []
    },
    "kernelspec": {
      "name": "python3",
      "display_name": "Python 3"
    },
    "language_info": {
      "name": "python"
    }
  },
  "cells": [
    {
      "cell_type": "markdown",
      "source": [
        "#Posttest 5\n",
        "##Nama  : Sahriah\n",
        "##NIM   : 2109106087\n",
        "##Kelas : C1'22"
      ],
      "metadata": {
        "id": "rxb0Na0y6k6K"
      }
    },
    {
      "cell_type": "code",
      "source": [
        "import pandas as pd\n",
        "import numpy as np\n",
        "import tensorflow as tf\n",
        "import matplotlib.pyplot as plt\n",
        "import seaborn as sns"
      ],
      "metadata": {
        "id": "tMB2kGDg6xw-"
      },
      "execution_count": null,
      "outputs": []
    },
    {
      "cell_type": "code",
      "execution_count": null,
      "metadata": {
        "id": "6WR8FClL6cZZ"
      },
      "outputs": [],
      "source": [
        "!pip install kaggle"
      ]
    },
    {
      "cell_type": "code",
      "source": [
        "!kaggle datasets download -d hassanamin/textdb3"
      ],
      "metadata": {
        "id": "QyackhxE6dwU"
      },
      "execution_count": null,
      "outputs": []
    },
    {
      "cell_type": "code",
      "source": [
        "!unzip textdb3.zip"
      ],
      "metadata": {
        "id": "T2G51uGY6h-A"
      },
      "execution_count": null,
      "outputs": []
    }
  ]
}